{
  "nbformat": 4,
  "nbformat_minor": 0,
  "metadata": {
    "colab": {
      "provenance": [],
      "authorship_tag": "ABX9TyO0UsZWJtpWjy5qjJzehm3d",
      "include_colab_link": true
    },
    "kernelspec": {
      "name": "python3",
      "display_name": "Python 3"
    },
    "language_info": {
      "name": "python"
    }
  },
  "cells": [
    {
      "cell_type": "markdown",
      "metadata": {
        "id": "view-in-github",
        "colab_type": "text"
      },
      "source": [
        "<a href=\"https://colab.research.google.com/github/Shania2002/ibpassignment2/blob/main/Development_Report.ipynb\" target=\"_parent\"><img src=\"https://colab.research.google.com/assets/colab-badge.svg\" alt=\"Open In Colab\"/></a>"
      ]
    },
    {
      "cell_type": "markdown",
      "source": [
        "**Downloading Enron Email Data**"
      ],
      "metadata": {
        "id": "a2QH-60CRU63"
      }
    },
    {
      "cell_type": "code",
      "execution_count": null,
      "metadata": {
        "id": "1q3seaWxMXfg"
      },
      "outputs": [],
      "source": [
        "!wget -O enron.db https://curtin-my.sharepoint.com/:u:/g/personal/211934g_curtin_edu_au/EaYagsqa2r1Bi5wtHbswGFwBH2kd2uTnz6rlka7GI36GUQ?download=1\n",
        "!: the exclamation mark is most commonly used with shell command and special syntax in programming\n",
        "\n",
        "wget represents a specific command line interfaces to retrive information from the web using the HTTP or FTP protocol\n",
        "\n",
        "-0 enron.db:the 0-value indicates in wget command has been used to specify the name of the file that the content is downloaded such as here it applies to the enron corporation thus,the files downloaded will be saved as enron_data.\n",
        "\n",
        "https://curtin-my.sharepoint.com/:u:/g/personal/211934g_curtin_edu_au/EaYagsqa2r1Bi5wtHbswGFwBH2kd2uTnz6rlka7GI36GUQ?download=1: This is the URL of the file that i have downloaded to perform the enron email analysis.\n",
        "\n",
        "As a result by putting all together, this command will download the file with the given URL and save it as enron.db which means the full dataset.\n",
        "\n"
      ]
    },
    {
      "cell_type": "markdown",
      "source": [
        "**Setting SQLite database**"
      ],
      "metadata": {
        "id": "rW_kigFwRR1N"
      }
    },
    {
      "cell_type": "code",
      "source": [
        "import sqlite3: the sqlite3 module will allow a set of functions that provide access with SQLite databases\n",
        "\n",
        "conn = sqlite3.connect(\"enron.db\"): This statement establishes a connection with the SQLite database file under \"enron.db\" using the sqlite3 library.\n",
        "                                    \n",
        "                                    After executing the previous code, a connection object will be created and this will enable to perform various tasks such as executing sql queries,modifying or retrieving data.\n",
        "\n",
        "cur = conn.cursor(): It is used to create a cursor object associated with the SQLite database connection\n",
        "whereby \"conn\" refers to the connection of the object while \"cursor\", is the method available on the connection object to create a cursor object\n",
        "\n",
        "\n"
      ],
      "metadata": {
        "id": "W22ubRJNR3-w"
      },
      "execution_count": null,
      "outputs": []
    },
    {
      "cell_type": "markdown",
      "source": [
        "**Check Schema of Database**"
      ],
      "metadata": {
        "id": "HDbwuy31WC63"
      }
    },
    {
      "cell_type": "code",
      "source": [
        "#Write an SQL query against the database to retrieve information about the tables,columns and rows from the enron.db database\n",
        "# After establishing a connection, the SQL query to retrive table names from \"sqlite_master\" using 'SELECT name FROM sqlite_master WHERE type='table'\n",
        "# Fetch column information using PRAGMA table_info('employeelist')\n",
        "# To retrive all the rows from the result, cur.fetchall() is used\n"
      ],
      "metadata": {
        "id": "Z6G430L6WJx9"
      },
      "execution_count": null,
      "outputs": []
    },
    {
      "cell_type": "markdown",
      "source": [
        "Email Traffic overtime"
      ],
      "metadata": {
        "id": "AHk6Vt2xZPdh"
      }
    },
    {
      "cell_type": "code",
      "source": [
        "import pandas as pd: this is used to import the pandas library ans assign the alias \"pd\".\n",
        "\n",
        "import matplotlib.pyplot as plt: it is used to import the 'pyplot' module from the 'matplotlib' library and assign it to the alias'plt'.\n",
        "\n",
        "import seaborn as sns: this statement enables the importation of the seaborn library and assign it the alias 'sns'. Seaborn create a variety of functions such as visualisation like scatter plots, bar plots, pie charts and more.\n",
        "\n",
        "# Check whether the data column in Message contain null values: isnull() function of the pandas DataFrame indicates whether each value in the \"Message\" column is null or not. \n",
        "\n",
        "# sql query to count number of emails message per day: the pd.read_sql_query(sql, conn) function enables to execute the SQL query and collect all the information from the database connection known as ('conn')\n",
        "the result is then stored in the variable dataset of 'msgday_df'.\n",
        "\n",
        "fig =plt.subplots(figsize=(11,6)): this shows a figure and their axis using the subplots() variable from 'matplotlib.pyplot'. the 'figsize' argument where ('11,6') this represents the breath and the length per inch.\n",
        "\n",
        "sns.lineplot(x= 'date', y ='count', data = msgday_df: this function is using the 'lineplot'() from the seaborn library to crate a line graph whereby on the x-axis shows the date and the y-axis as 'count'and the dataset from 'msgday_df'.\n",
        "             \n",
        "fig= plt.subplots(figsize=(18,4)) : this represents the line graph anf their axis using subplots() by having the 'figsize' parameter where ('18,4') is the width and height. \n",
        "\n",
        "sns.lineplot(x = 'date', y='count', data = msgperweek_df): this variable executes from the seaborn module used to create a line graph and the dataset as 'msgperweek_df'.\n",
        "\n",
        "#sql query to count number of emails for each month: It executes the SQL query and return the SQL result as the form of 'conn'.\n",
        "\n",
        "#convert in dataframe: this function returns the SQL query and convert it into a dataframe for the montly email count as 'msgpermonth_df'.\n",
        "\n",
        "fig =plt.subplots(figsize=(11,6)): this depicts the figure size in line with the axis using subplots() dataset from the seaborn module to create the line graph for the monthly count where ('11,6') represents the width and height.\n",
        "\n",
        "sns.lineplot(x ='date', y= 'count', data=msgpermonth_df): this dataset will execute an SQL query from the saeborn library in order to draw a line plot into a dataframe of 'msgpermonth_df'.\n",
        "\n",
        "\n",
        "\n"
      ],
      "metadata": {
        "id": "twOM97g5Zfrl"
      },
      "execution_count": null,
      "outputs": []
    },
    {
      "cell_type": "markdown",
      "source": [
        "**Highest Number of Senders**\n"
      ],
      "metadata": {
        "id": "D7F_gocWmMyi"
      }
    },
    {
      "cell_type": "code",
      "source": [
        "#sql query to retrieve highest senders: Execute the SQL query and return the result.\n",
        "\n",
        "A function is created and take the query result tehn convert it into a dataframe and it is then allocated to the highestsenders_df\n",
        "\n",
        "# The top 15 senders with the highest number of emails are represented by highestsenders_df and are listed in an orderly manner\n",
        "\n",
        "# data = highestsenders_df: this represents the 'data' variable into the dataframe 'highestsender_df'.\n",
        "\n",
        "#sns.barplot(x=\"count\" , y=\"sender\", data=data): This is used to create the bar chart with the x-axis as 'count' and y-axis as the 'senders' column\n",
        "\n",
        "#plt.show(): This function is used to demonstrate the bar chart visually.\n"
      ],
      "metadata": {
        "id": "o2rIFejHmT7g"
      },
      "execution_count": null,
      "outputs": []
    },
    {
      "cell_type": "markdown",
      "source": [
        "**Highest Number of recipients**"
      ],
      "metadata": {
        "id": "pEEBV34fqvJ6"
      }
    },
    {
      "cell_type": "code",
      "source": [
        "sqlrecipients = \"\"\": This function executes the SQL query\n",
        "\n",
        "SELECT rvalue AS recipient, COUNT(*): the 'rvalue' column as recipient and it counts the number the occurences using the COUNT(*) function.\n",
        "\n",
        "#convert into a dataframe as recipient_count_df.\n",
        "\n",
        "# then it groups all the  recipients and their mails in a descending order  but limits till  the top 17 with the highest counts.\n",
        "\n",
        "#conn = sqlite3.connect(\"enron.db\"):the sqlite3 is the module used for the database. the connect function ' conn' is used to connect the sql queries.\n",
        "'the enron.db' exists in the same directory in the connect() function.\n",
        "\n",
        "As shown above the neccesary librairies seaborn as 'sns' ans matplotlib as' plt' have already been explained and hence below are the next steps required to perform data:\n",
        "\n",
        "# read data from database into dataframes: pandas import as pd  is used for the analysis, then 'sqlite3.connect()' replace the dataframe path file\n",
        "\n",
        "Then it defines the sql query by 'sqlrecipients' variable.Then, use 'pd.read_sql_query() to retrieve all results into the 'highest recipients_df' dataframe.\n",
        "\n",
        "Finally, by ending the connection database using 'conn_close()'. Then, the dataset from the enron database will be sotred as  the 'highestrecipients_df' dataframe.\n",
        "\n",
        "data =highestrecipients_df: the 'highestrecipients_df' represents the dataframe  to assign the variable  data.\n",
        "\n",
        "sns.barplot(x=\"count\", y =\"recipient\", data=data): the 'sns.barplot()' is used to create the bar chart, where the 'x' argument shows the 'count'and the 'y' parameter  in the y-axis shows the recipients and data represents the dataframe  containing the data.\n",
        "\n",
        "plt.show(): After creating the bar chart, the 'plt.show()' demonstrates the graph.\n",
        "\n",
        "\n",
        "\n"
      ],
      "metadata": {
        "id": "sYA3lwckqzQc"
      },
      "execution_count": null,
      "outputs": []
    },
    {
      "cell_type": "markdown",
      "source": [
        "**Email Distribution by recipient type**"
      ],
      "metadata": {
        "id": "Eif13bRj1_ST"
      }
    },
    {
      "cell_type": "code",
      "source": [
        "#sql query to get the recipient types and their counts:\n",
        "As explained above data manipulation and SQLite database is already highlighted hence for this execute this code, we first need to build a connection by using 'sqlite3,connect()'\n",
        "\n",
        "Next, to define the query  tyhe 'sqlrecipient_types' variable is used.\n",
        "\n",
        "Then, by executing the sql query using'conn.execute() which then stores  the result in the'sql_recipientstypes' variable.\n",
        "\n",
        "Afterwards, the same codes are executed  to close the database as seen above by using 'conn.close()' into the 'recipients_df' dataframe.\n"
      ],
      "metadata": {
        "id": "YtTtXl772HGB"
      },
      "execution_count": null,
      "outputs": []
    },
    {
      "cell_type": "markdown",
      "source": [
        "**Testing Analysis**"
      ],
      "metadata": {
        "id": "AwPfNiXh4vM4"
      }
    },
    {
      "cell_type": "code",
      "source": [
        "# Check whether the data column in Message contain null values\n",
        "sql=\"\"\"\n",
        "SELECT date\n",
        "FROM MESSAGE\n"
      ],
      "metadata": {
        "colab": {
          "base_uri": "https://localhost:8080/",
          "height": 131
        },
        "id": "0oC2Z3Oo5m9e",
        "outputId": "ed635811-54a2-4e29-8985-d79681379b02"
      },
      "execution_count": 2,
      "outputs": [
        {
          "output_type": "error",
          "ename": "SyntaxError",
          "evalue": "ignored",
          "traceback": [
            "\u001b[0;36m  File \u001b[0;32m\"<ipython-input-2-32cafba7cc99>\"\u001b[0;36m, line \u001b[0;32m2\u001b[0m\n\u001b[0;31m    sql=\"\"\"\u001b[0m\n\u001b[0m        ^\u001b[0m\n\u001b[0;31mSyntaxError\u001b[0m\u001b[0;31m:\u001b[0m incomplete input\n"
          ]
        }
      ]
    },
    {
      "cell_type": "markdown",
      "source": [
        "Base on my code above, I was unable to execute the code as I made a syntax error in my SQL query by not adding the closing double quotation mark."
      ],
      "metadata": {
        "id": "K4g4LJO-5qm1"
      }
    },
    {
      "cell_type": "code",
      "source": [
        "# sql query to count number of emails message per day\n",
        "sql= \"\"\"\n",
        "\n",
        "SELECT strftime('%Y-%d' , date)\n",
        "AS date,\n",
        "COUNT()AS count FROM message\n",
        "GROUP BY date\n",
        "\n",
        "\"\"\"\n",
        "# convert in dataframe\n",
        "msgday_df = pd.read_sql_query(sql, conn)\n",
        "msgday_df"
      ],
      "metadata": {
        "colab": {
          "base_uri": "https://localhost:8080/",
          "height": 218
        },
        "id": "mRCiC9YY63_d",
        "outputId": "5fa7edfe-cece-4277-bf78-c387e5e0779e"
      },
      "execution_count": 3,
      "outputs": [
        {
          "output_type": "error",
          "ename": "NameError",
          "evalue": "ignored",
          "traceback": [
            "\u001b[0;31m---------------------------------------------------------------------------\u001b[0m",
            "\u001b[0;31mNameError\u001b[0m                                 Traceback (most recent call last)",
            "\u001b[0;32m<ipython-input-3-a4fc64985d7f>\u001b[0m in \u001b[0;36m<cell line: 11>\u001b[0;34m()\u001b[0m\n\u001b[1;32m      9\u001b[0m \"\"\"\n\u001b[1;32m     10\u001b[0m \u001b[0;31m# convert in dataframe\u001b[0m\u001b[0;34m\u001b[0m\u001b[0;34m\u001b[0m\u001b[0m\n\u001b[0;32m---> 11\u001b[0;31m \u001b[0mmsgday_df\u001b[0m \u001b[0;34m=\u001b[0m \u001b[0mpd\u001b[0m\u001b[0;34m.\u001b[0m\u001b[0mread_sql_query\u001b[0m\u001b[0;34m(\u001b[0m\u001b[0msql\u001b[0m\u001b[0;34m,\u001b[0m \u001b[0mconn\u001b[0m\u001b[0;34m)\u001b[0m\u001b[0;34m\u001b[0m\u001b[0;34m\u001b[0m\u001b[0m\n\u001b[0m\u001b[1;32m     12\u001b[0m \u001b[0mmsgday_df\u001b[0m\u001b[0;34m\u001b[0m\u001b[0;34m\u001b[0m\u001b[0m\n",
            "\u001b[0;31mNameError\u001b[0m: name 'pd' is not defined"
          ]
        }
      ]
    },
    {
      "cell_type": "markdown",
      "source": [
        "The issue here is that i was unable to count tyhe number of  as i missed the asterik and i did not include Select clause after 'AS date'."
      ],
      "metadata": {
        "id": "yQFeAHn97Rbc"
      }
    },
    {
      "cell_type": "code",
      "source": [
        "#sql query to retrieve highest senders\n",
        "sqlsenders= \"\"\n",
        "SELECT sender, COUNT(*)\n",
        "AS count\n",
        "FROM message\n",
        "GROUP BY sender\n",
        "ORDER BY count\n",
        "DESC\n",
        "LIMIT 15\n",
        "\"\"\""
      ],
      "metadata": {
        "colab": {
          "base_uri": "https://localhost:8080/",
          "height": 131
        },
        "id": "SCqdtv6V8BA4",
        "outputId": "450138b5-e16a-43ad-c6cb-c5bea2e7c5ca"
      },
      "execution_count": 5,
      "outputs": [
        {
          "output_type": "error",
          "ename": "SyntaxError",
          "evalue": "ignored",
          "traceback": [
            "\u001b[0;36m  File \u001b[0;32m\"<ipython-input-5-32b059aa39d1>\"\u001b[0;36m, line \u001b[0;32m10\u001b[0m\n\u001b[0;31m    \"\"\"\u001b[0m\n\u001b[0m    ^\u001b[0m\n\u001b[0;31mSyntaxError\u001b[0m\u001b[0;31m:\u001b[0m unterminated triple-quoted string literal (detected at line 10)\n"
          ]
        }
      ]
    },
    {
      "cell_type": "markdown",
      "source": [
        "Here,  iamde an error in my sql query such that i missed  the closing quotation mark at the beginning of the query."
      ],
      "metadata": {
        "id": "nfes2Baw8075"
      }
    },
    {
      "cell_type": "code",
      "source": [
        "sql_recipientstypes = \"\"\"\n",
        "SELECT rtype, COUNT (rtype)\n",
        "AS count\n",
        "\n",
        "FROM recipientinfo\n",
        "\n",
        "GROUP by rtype\n",
        "ORDER by rtype\n",
        "\"\"\"\n",
        "\n",
        "recipients_df = pd.read_sql_query(sql_recipientstype, conn)\n",
        "recipients_df"
      ],
      "metadata": {
        "colab": {
          "base_uri": "https://localhost:8080/",
          "height": 218
        },
        "id": "UkjVauGa9Gxj",
        "outputId": "ef741623-75e2-42a2-d04b-dffd5d17729e"
      },
      "execution_count": 6,
      "outputs": [
        {
          "output_type": "error",
          "ename": "NameError",
          "evalue": "ignored",
          "traceback": [
            "\u001b[0;31m---------------------------------------------------------------------------\u001b[0m",
            "\u001b[0;31mNameError\u001b[0m                                 Traceback (most recent call last)",
            "\u001b[0;32m<ipython-input-6-cef21fbb60bf>\u001b[0m in \u001b[0;36m<cell line: 11>\u001b[0;34m()\u001b[0m\n\u001b[1;32m      9\u001b[0m \"\"\"\n\u001b[1;32m     10\u001b[0m \u001b[0;34m\u001b[0m\u001b[0m\n\u001b[0;32m---> 11\u001b[0;31m \u001b[0mrecipients_df\u001b[0m \u001b[0;34m=\u001b[0m \u001b[0mpd\u001b[0m\u001b[0;34m.\u001b[0m\u001b[0mread_sql_query\u001b[0m\u001b[0;34m(\u001b[0m\u001b[0msql_recipientstype\u001b[0m\u001b[0;34m,\u001b[0m \u001b[0mconn\u001b[0m\u001b[0;34m)\u001b[0m\u001b[0;34m\u001b[0m\u001b[0;34m\u001b[0m\u001b[0m\n\u001b[0m\u001b[1;32m     12\u001b[0m \u001b[0mrecipients_df\u001b[0m\u001b[0;34m\u001b[0m\u001b[0;34m\u001b[0m\u001b[0m\n",
            "\u001b[0;31mNameError\u001b[0m: name 'pd' is not defined"
          ]
        }
      ]
    },
    {
      "cell_type": "markdown",
      "source": [
        "The error here  in the variable name 'sql_recipientstypes' in the last line, I missed an 's' in sql_recipientstype instead of 'sql_recipientstyes'.\n"
      ],
      "metadata": {
        "id": "b_3g2kfV9R_4"
      }
    }
  ]
}